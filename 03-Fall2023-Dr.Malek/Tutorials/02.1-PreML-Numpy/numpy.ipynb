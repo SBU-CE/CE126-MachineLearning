{
  "nbformat": 4,
  "nbformat_minor": 5,
  "metadata": {
    "kernelspec": {
      "display_name": "Python 3",
      "language": "python",
      "name": "python3"
    },
    "language_info": {
      "codemirror_mode": {
        "name": "ipython",
        "version": 3
      },
      "file_extension": ".py",
      "mimetype": "text/x-python",
      "name": "python",
      "nbconvert_exporter": "python",
      "pygments_lexer": "ipython3",
      "version": "3.8.8"
    },
    "colab": {
      "name": "numpy.ipynb",
      "provenance": []
    }
  },
  "cells": [
    {
      "cell_type": "code",
      "metadata": {
        "id": "d0c7ae70"
      },
      "source": [
        "import numpy as np"
      ],
      "id": "d0c7ae70",
      "execution_count": null,
      "outputs": []
    },
    {
      "cell_type": "markdown",
      "metadata": {
        "id": "eaf981d0"
      },
      "source": [
        "## Basics"
      ],
      "id": "eaf981d0"
    },
    {
      "cell_type": "code",
      "metadata": {
        "id": "50660e30",
        "outputId": "0bcbbd43-ca50-4427-ca20-e252e24ada43"
      },
      "source": [
        "a = np.array([1, 2, 3, 4, 5], dtype='float32')\n",
        "print(a.ndim)\n",
        "print(a.shape)\n",
        "a"
      ],
      "id": "50660e30",
      "execution_count": null,
      "outputs": [
        {
          "name": "stdout",
          "output_type": "stream",
          "text": [
            "1\n",
            "(5,)\n"
          ]
        },
        {
          "data": {
            "text/plain": [
              "array([1., 2., 3., 4., 5.], dtype=float32)"
            ]
          },
          "execution_count": 6,
          "metadata": {},
          "output_type": "execute_result"
        }
      ]
    },
    {
      "cell_type": "code",
      "metadata": {
        "id": "a2ffe86a",
        "outputId": "08ee4107-dd57-4e54-914a-393e684b29c4"
      },
      "source": [
        "b = np.array([[1, 2, 3, 4, 5], [6, 7, 8, 9, 10] ])\n",
        "print(b.ndim)\n",
        "print(b.shape)\n",
        "b"
      ],
      "id": "a2ffe86a",
      "execution_count": null,
      "outputs": [
        {
          "name": "stdout",
          "output_type": "stream",
          "text": [
            "2\n",
            "(2, 5)\n"
          ]
        },
        {
          "data": {
            "text/plain": [
              "array([[ 1,  2,  3,  4,  5],\n",
              "       [ 6,  7,  8,  9, 10]])"
            ]
          },
          "execution_count": 20,
          "metadata": {},
          "output_type": "execute_result"
        }
      ]
    },
    {
      "cell_type": "markdown",
      "metadata": {
        "id": "2aee2d57"
      },
      "source": [
        "## Retrieving a specific element"
      ],
      "id": "2aee2d57"
    },
    {
      "cell_type": "code",
      "metadata": {
        "id": "ca5ed510",
        "outputId": "724bd6e9-ab4e-41fc-d646-e1dc7aa5e10c"
      },
      "source": [
        "b[:, 2]  # getting all elements in the third column"
      ],
      "id": "ca5ed510",
      "execution_count": null,
      "outputs": [
        {
          "data": {
            "text/plain": [
              "array([3, 8])"
            ]
          },
          "execution_count": 21,
          "metadata": {},
          "output_type": "execute_result"
        }
      ]
    },
    {
      "cell_type": "code",
      "metadata": {
        "id": "461d70f6",
        "outputId": "286d8f3d-1305-4322-b6c4-1b3149742dea"
      },
      "source": [
        "b[1, :] # getting all elements in the second row"
      ],
      "id": "461d70f6",
      "execution_count": null,
      "outputs": [
        {
          "data": {
            "text/plain": [
              "array([ 6,  7,  8,  9, 10])"
            ]
          },
          "execution_count": 22,
          "metadata": {},
          "output_type": "execute_result"
        }
      ]
    },
    {
      "cell_type": "code",
      "metadata": {
        "id": "663e7120",
        "outputId": "c0b51e4b-0d9f-4171-cc85-608f6c22da1a"
      },
      "source": [
        "b_copy = np.copy(b)\n",
        "b_copy[0, 0] = 10\n",
        "b_copy"
      ],
      "id": "663e7120",
      "execution_count": null,
      "outputs": [
        {
          "data": {
            "text/plain": [
              "array([[10,  2,  3,  4,  5],\n",
              "       [ 6,  7,  8,  9, 10]])"
            ]
          },
          "execution_count": 23,
          "metadata": {},
          "output_type": "execute_result"
        }
      ]
    },
    {
      "cell_type": "markdown",
      "metadata": {
        "id": "1a447e70"
      },
      "source": [
        "## Replacing Elements"
      ],
      "id": "1a447e70"
    },
    {
      "cell_type": "code",
      "metadata": {
        "id": "224af6aa",
        "outputId": "498b2534-bddf-4aaa-fa88-271d792099c1"
      },
      "source": [
        "c = np.array([[1, 2], [4, 5]])\n",
        "print(c)\n",
        "\n",
        "c[1, :] = [8, 8]\n",
        "c"
      ],
      "id": "224af6aa",
      "execution_count": null,
      "outputs": [
        {
          "name": "stdout",
          "output_type": "stream",
          "text": [
            "[[1 2]\n",
            " [4 5]]\n"
          ]
        },
        {
          "data": {
            "text/plain": [
              "array([[1, 2],\n",
              "       [8, 8]])"
            ]
          },
          "execution_count": 26,
          "metadata": {},
          "output_type": "execute_result"
        }
      ]
    },
    {
      "cell_type": "markdown",
      "metadata": {
        "id": "18e0e822"
      },
      "source": [
        "## Different Types of arrays"
      ],
      "id": "18e0e822"
    },
    {
      "cell_type": "code",
      "metadata": {
        "id": "2a1f6a5f",
        "outputId": "92f723ac-9daa-4f81-fbfd-238351e3dcd8"
      },
      "source": [
        "# Zeros\n",
        "z = np.zeros((2, 3), dtype='int32')\n",
        "z"
      ],
      "id": "2a1f6a5f",
      "execution_count": null,
      "outputs": [
        {
          "data": {
            "text/plain": [
              "array([[0, 0, 0],\n",
              "       [0, 0, 0]])"
            ]
          },
          "execution_count": 27,
          "metadata": {},
          "output_type": "execute_result"
        }
      ]
    },
    {
      "cell_type": "code",
      "metadata": {
        "id": "f7fe9ebe",
        "outputId": "055cad31-7d8e-4b0c-ee06-545cee096423"
      },
      "source": [
        "# Ones\n",
        "ones_example = np.ones((4, 1, 2), dtype='float32')\n",
        "ones_example"
      ],
      "id": "f7fe9ebe",
      "execution_count": null,
      "outputs": [
        {
          "data": {
            "text/plain": [
              "array([[[1., 1.]],\n",
              "\n",
              "       [[1., 1.]],\n",
              "\n",
              "       [[1., 1.]],\n",
              "\n",
              "       [[1., 1.]]], dtype=float32)"
            ]
          },
          "execution_count": 29,
          "metadata": {},
          "output_type": "execute_result"
        }
      ]
    },
    {
      "cell_type": "code",
      "metadata": {
        "id": "a752c32a",
        "outputId": "af6290a6-6663-4b6d-b38c-99cf5b61d390"
      },
      "source": [
        "# Full\n",
        "full_example = np.full((3, 3), 11)\n",
        "full_example"
      ],
      "id": "a752c32a",
      "execution_count": null,
      "outputs": [
        {
          "data": {
            "text/plain": [
              "array([[11, 11, 11],\n",
              "       [11, 11, 11],\n",
              "       [11, 11, 11]])"
            ]
          },
          "execution_count": 30,
          "metadata": {},
          "output_type": "execute_result"
        }
      ]
    },
    {
      "cell_type": "code",
      "metadata": {
        "id": "bcdba31c",
        "outputId": "839b735a-f654-4ebf-d9d5-96ae3f695cca"
      },
      "source": [
        "# Random Numbers\n",
        "random_example = np.random.randint(-10, 20, size=(5, 5))\n",
        "random_example"
      ],
      "id": "bcdba31c",
      "execution_count": null,
      "outputs": [
        {
          "data": {
            "text/plain": [
              "array([[ -3,   9,   2,  15,  -6],\n",
              "       [  9,   0, -10,  15,  13],\n",
              "       [ -5,   8,   7,   0,  16],\n",
              "       [ -2,  16,  -5,   7,   8],\n",
              "       [  4,  -3,  18,  -1,  -2]])"
            ]
          },
          "execution_count": 31,
          "metadata": {},
          "output_type": "execute_result"
        }
      ]
    },
    {
      "cell_type": "code",
      "metadata": {
        "id": "bce45a63",
        "outputId": "6d069908-3c35-4ab0-e0ec-9c2d031b2082"
      },
      "source": [
        "# Random Numbers\n",
        "random_example2 = np.arange(-10, 10, step=3)\n",
        "random_example2"
      ],
      "id": "bce45a63",
      "execution_count": null,
      "outputs": [
        {
          "data": {
            "text/plain": [
              "array([-10,  -7,  -4,  -1,   2,   5,   8])"
            ]
          },
          "execution_count": 33,
          "metadata": {},
          "output_type": "execute_result"
        }
      ]
    },
    {
      "cell_type": "markdown",
      "metadata": {
        "id": "e4d852b3"
      },
      "source": [
        "## Linear Algebra"
      ],
      "id": "e4d852b3"
    },
    {
      "cell_type": "code",
      "metadata": {
        "id": "44c360a3",
        "outputId": "821b8446-09e7-4016-e528-93bf3f36d4a9"
      },
      "source": [
        "mat_a = np.ones((2, 2))\n",
        "mat_b = np.full((2, 2), 3)\n",
        "\n",
        "print(mat_a)\n",
        "print(mat_b)\n",
        "\n",
        "mult = np.matmul(mat_a, mat_b)\n",
        "print('matrix multiplication: ', mult)\n",
        "\n",
        "det = np.linalg.det(mult)\n",
        "print('determinant of the multiplication: ', det)"
      ],
      "id": "44c360a3",
      "execution_count": null,
      "outputs": [
        {
          "name": "stdout",
          "output_type": "stream",
          "text": [
            "[[1. 1.]\n",
            " [1. 1.]]\n",
            "[[3 3]\n",
            " [3 3]]\n",
            "matrix multiplication:  [[6. 6.]\n",
            " [6. 6.]]\n",
            "determinant of the multiplication:  0.0\n"
          ]
        }
      ]
    },
    {
      "cell_type": "code",
      "metadata": {
        "id": "3907856c",
        "outputId": "9cab9c2b-5ef6-48ab-d4df-904cc0e41f92"
      },
      "source": [
        "## Another Example\n",
        "iden = np.identity(3)\n",
        "print(iden)\n",
        "np.linalg.det(iden)"
      ],
      "id": "3907856c",
      "execution_count": null,
      "outputs": [
        {
          "name": "stdout",
          "output_type": "stream",
          "text": [
            "[[1. 0. 0.]\n",
            " [0. 1. 0.]\n",
            " [0. 0. 1.]]\n"
          ]
        },
        {
          "data": {
            "text/plain": [
              "1.0"
            ]
          },
          "execution_count": 41,
          "metadata": {},
          "output_type": "execute_result"
        }
      ]
    },
    {
      "cell_type": "markdown",
      "metadata": {
        "id": "7ce971ef"
      },
      "source": [
        "## Statistics"
      ],
      "id": "7ce971ef"
    },
    {
      "cell_type": "code",
      "metadata": {
        "id": "9d0d5655",
        "outputId": "f2a98d1c-14de-41c9-f620-b2cfdd172b72"
      },
      "source": [
        "stat_example = np.random.randint(0, 100, size=(3, 3))\n",
        "stat_example"
      ],
      "id": "9d0d5655",
      "execution_count": null,
      "outputs": [
        {
          "data": {
            "text/plain": [
              "array([[10, 91,  7],\n",
              "       [50,  7, 16],\n",
              "       [70, 98, 78]])"
            ]
          },
          "execution_count": 44,
          "metadata": {},
          "output_type": "execute_result"
        }
      ]
    },
    {
      "cell_type": "code",
      "metadata": {
        "id": "5a3c7462",
        "outputId": "a788f07d-028b-4757-ae17-f2d2eb81d47f"
      },
      "source": [
        "print('min: ', np.min(stat_example))\n",
        "print('max: ', np.max(stat_example))\n",
        "print('average: ', np.mean(stat_example))\n",
        "print('sum of all rows and columns: ', np.sum(stat_example))\n",
        "print('standard deviation: ', np.std(stat_example))"
      ],
      "id": "5a3c7462",
      "execution_count": null,
      "outputs": [
        {
          "name": "stdout",
          "output_type": "stream",
          "text": [
            "min:  7\n",
            "max:  98\n",
            "average:  47.44444444444444\n",
            "sum of all rows and columns:  427\n",
            "standard deviation:  35.845691236840636\n"
          ]
        }
      ]
    },
    {
      "cell_type": "markdown",
      "metadata": {
        "id": "dff4ecea"
      },
      "source": [
        "## Reorganizing"
      ],
      "id": "dff4ecea"
    },
    {
      "cell_type": "code",
      "metadata": {
        "id": "a472cdcb",
        "outputId": "289d0573-f598-4f0c-ab1c-c28fd10e4e06"
      },
      "source": [
        "before_reshape = np.array([1, 2, 3, 4, 5, 6, 7, 8])\n",
        "print(before_reshape)\n",
        "\n",
        "print(\"---------------------------\")\n",
        "\n",
        "after_reshape1 = np.reshape(before_reshape, (2, 4))\n",
        "print('2*4 matrix: ', after_reshape1)\n",
        "\n",
        "print(\"---------------------------\")\n",
        "\n",
        "after_reshape2 = np.reshape(before_reshape, (4, 2))\n",
        "print('4*2 matrix: ', after_reshape2)\n",
        "\n",
        "print(\"---------------------------\")\n",
        "\n",
        "after_reshape3 = np.reshape(before_reshape, (8, 1))\n",
        "print(after_reshape3)"
      ],
      "id": "a472cdcb",
      "execution_count": null,
      "outputs": [
        {
          "name": "stdout",
          "output_type": "stream",
          "text": [
            "[1 2 3 4 5 6 7 8]\n",
            "---------------------------\n",
            "2*4 matrix:  [[1 2 3 4]\n",
            " [5 6 7 8]]\n",
            "---------------------------\n",
            "4*2 matrix:  [[1 2]\n",
            " [3 4]\n",
            " [5 6]\n",
            " [7 8]]\n",
            "---------------------------\n",
            "[[1]\n",
            " [2]\n",
            " [3]\n",
            " [4]\n",
            " [5]\n",
            " [6]\n",
            " [7]\n",
            " [8]]\n"
          ]
        }
      ]
    },
    {
      "cell_type": "markdown",
      "metadata": {
        "id": "30a68232"
      },
      "source": [
        "## Vertically & Horizontaly Stacking Vectors"
      ],
      "id": "30a68232"
    },
    {
      "cell_type": "code",
      "metadata": {
        "id": "b4c9b894",
        "outputId": "0871ae73-b94c-43bb-8962-c5b954089e49"
      },
      "source": [
        "first = np.array([1, 2, 3, 4, 5])\n",
        "second = np.array([6, 7, 8, 9, 10])\n",
        "third = np.array([11, 12, 13, 14, 15])\n",
        "\n",
        "v_result = np.vstack([first, second, third, second])\n",
        "v_result"
      ],
      "id": "b4c9b894",
      "execution_count": null,
      "outputs": [
        {
          "data": {
            "text/plain": [
              "array([[ 1,  2,  3,  4,  5],\n",
              "       [ 6,  7,  8,  9, 10],\n",
              "       [11, 12, 13, 14, 15],\n",
              "       [ 6,  7,  8,  9, 10]])"
            ]
          },
          "execution_count": 57,
          "metadata": {},
          "output_type": "execute_result"
        }
      ]
    },
    {
      "cell_type": "code",
      "metadata": {
        "id": "1c236db0",
        "outputId": "10001bcf-80f7-414e-d6e4-1c86a6b8e755"
      },
      "source": [
        "first_t = np.transpose(first)\n",
        "second_t = np.transpose(second)\n",
        "third_t = np.transpose(third)\n",
        "\n",
        "h_result = np.hstack([first_t, second_t, third_t])\n",
        "h_result"
      ],
      "id": "1c236db0",
      "execution_count": null,
      "outputs": [
        {
          "data": {
            "text/plain": [
              "array([ 1,  2,  3,  4,  5,  6,  7,  8,  9, 10, 11, 12, 13, 14, 15])"
            ]
          },
          "execution_count": 60,
          "metadata": {},
          "output_type": "execute_result"
        }
      ]
    },
    {
      "cell_type": "markdown",
      "metadata": {
        "id": "4a5f202b"
      },
      "source": [
        "## Boolean"
      ],
      "id": "4a5f202b"
    },
    {
      "cell_type": "code",
      "metadata": {
        "id": "7eb55261",
        "outputId": "08412600-773e-4980-8546-ffe471adbe0e"
      },
      "source": [
        "random_example = np.random.randint(-100, 100, size=(4, 4))\n",
        "random_example"
      ],
      "id": "7eb55261",
      "execution_count": null,
      "outputs": [
        {
          "data": {
            "text/plain": [
              "array([[  38,   82,   -2,  -18],\n",
              "       [  79,   73,   19,  -38],\n",
              "       [ -43,  -78, -100,   18],\n",
              "       [  95,   68,   62,  -57]])"
            ]
          },
          "execution_count": 61,
          "metadata": {},
          "output_type": "execute_result"
        }
      ]
    },
    {
      "cell_type": "code",
      "metadata": {
        "id": "10d998ad",
        "outputId": "204d1806-b2e5-454d-8f89-bb73bff377a2"
      },
      "source": [
        "random_example > 0"
      ],
      "id": "10d998ad",
      "execution_count": null,
      "outputs": [
        {
          "data": {
            "text/plain": [
              "array([[ True,  True, False, False],\n",
              "       [ True,  True,  True, False],\n",
              "       [False, False, False,  True],\n",
              "       [ True,  True,  True, False]])"
            ]
          },
          "execution_count": 62,
          "metadata": {},
          "output_type": "execute_result"
        }
      ]
    },
    {
      "cell_type": "code",
      "metadata": {
        "id": "ddc75b66"
      },
      "source": [
        "!pip install jovian --upgrade --quiet"
      ],
      "id": "ddc75b66",
      "execution_count": null,
      "outputs": []
    },
    {
      "cell_type": "code",
      "metadata": {
        "id": "c364d179",
        "outputId": "95ca167a-0a4e-4a88-92ae-9daa84359abf"
      },
      "source": [
        "import jovian"
      ],
      "id": "c364d179",
      "execution_count": null,
      "outputs": [
        {
          "data": {
            "application/javascript": [
              "if (window.IPython && IPython.notebook.kernel) IPython.notebook.kernel.execute('jovian.utils.jupyter.get_notebook_name_saved = lambda: \"' + IPython.notebook.notebook_name + '\"')"
            ],
            "text/plain": [
              "<IPython.core.display.Javascript object>"
            ]
          },
          "metadata": {},
          "output_type": "display_data"
        }
      ]
    },
    {
      "cell_type": "code",
      "metadata": {
        "id": "ecc91c22",
        "outputId": "4b88362a-55ee-4096-e278-80184f2ca83c"
      },
      "source": [
        "jovian.commit(project='01-numpy-tutorial')"
      ],
      "id": "ecc91c22",
      "execution_count": null,
      "outputs": [
        {
          "data": {
            "application/javascript": [
              "window.require && require([\"base/js/namespace\"],function(Jupyter){Jupyter.notebook.save_checkpoint()})"
            ],
            "text/plain": [
              "<IPython.core.display.Javascript object>"
            ]
          },
          "metadata": {},
          "output_type": "display_data"
        },
        {
          "name": "stdout",
          "output_type": "stream",
          "text": [
            "[jovian] Please enter your API key ( from https://jovian.ai/ ):\n",
            "API KEY: ········\n",
            "[jovian] Creating a new project \"amirhallaji/01-numpy-tutorial\"\n",
            "[jovian] Committed successfully! https://jovian.ai/amirhallaji/01-numpy-tutorial\n"
          ]
        },
        {
          "data": {
            "text/plain": [
              "'https://jovian.ai/amirhallaji/01-numpy-tutorial'"
            ]
          },
          "execution_count": 65,
          "metadata": {},
          "output_type": "execute_result"
        }
      ]
    },
    {
      "cell_type": "code",
      "metadata": {
        "id": "252b1471"
      },
      "source": [
        ""
      ],
      "id": "252b1471",
      "execution_count": null,
      "outputs": []
    }
  ]
}